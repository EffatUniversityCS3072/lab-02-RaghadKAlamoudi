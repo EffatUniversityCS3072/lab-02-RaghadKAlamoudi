{
 "cells": [
  {
   "cell_type": "code",
   "execution_count": 7,
   "id": "0889eb17-9a05-4bbe-8a3d-5812b594ea51",
   "metadata": {},
   "outputs": [
    {
     "data": {
      "text/plain": [
       "'C:\\\\Users\\\\Asus\\\\Downloads\\\\CS 3072\\\\Labs\\\\lab-02-RaghadKAlamoudi'"
      ]
     },
     "execution_count": 7,
     "metadata": {},
     "output_type": "execute_result"
    }
   ],
   "source": [
    "import os\n",
    "os.getcwd()"
   ]
  },
  {
   "cell_type": "markdown",
   "id": "582fd51e",
   "metadata": {},
   "source": [
    "# Lab 2: numpy\n",
    "\n",
    "#### Practice Exercise 1\n",
    "\n",
    "Create the following NumPy arrays: \n",
    "1. A 1-D array called zeros having 10 elements and all the elements are set to zero. \n",
    "2. A 1-D array called vowels having the elements ‘a’, ‘e’, ‘i’, ‘o’ and ‘u’. \n",
    "3. A 2-D array called ones having 2 rows and 5 columns and all the elements are set to 1 and dtype as int. \n",
    "4. Use nested Python lists to create a 2-D array called myarray1 having 3 rows and 3 columns and store the following data: 2.7,  0,  -2,  3.4,  10.6,  0,  -19 99.9 13 \n",
    "5. A 2-D array called myarray2 using arange() having 3 rows and 5 columns with start value = 4, step size 4 and dtype as float\n"
   ]
  },
  {
   "cell_type": "code",
   "execution_count": 21,
   "id": "9195d139",
   "metadata": {},
   "outputs": [
    {
     "data": {
      "text/plain": [
       "array([0., 0., 0., 0., 0., 0., 0., 0., 0., 0.])"
      ]
     },
     "execution_count": 21,
     "metadata": {},
     "output_type": "execute_result"
    }
   ],
   "source": [
    "# Write your answer here\n",
    "\n",
    "import numpy as np\n",
    "#Q1:\n",
    "zeros = np.zeros(10)\n",
    "zeros"
   ]
  },
  {
   "cell_type": "code",
   "execution_count": 23,
   "id": "211426b8-8489-40af-8d4e-57f21b5b2ccf",
   "metadata": {},
   "outputs": [
    {
     "data": {
      "text/plain": [
       "array(['a', 'e', 'i', 'o', 'u'], dtype='<U1')"
      ]
     },
     "execution_count": 23,
     "metadata": {},
     "output_type": "execute_result"
    }
   ],
   "source": [
    "#Q2:\n",
    "vowels= np.array (['a', 'e', 'i', 'o', 'u'])\n",
    "vowels"
   ]
  },
  {
   "cell_type": "code",
   "execution_count": 31,
   "id": "97a2262d-ed76-40c2-a5bd-994c989c2a12",
   "metadata": {},
   "outputs": [
    {
     "data": {
      "text/plain": [
       "array([[1, 1, 1, 1, 1],\n",
       "       [1, 1, 1, 1, 1]])"
      ]
     },
     "execution_count": 31,
     "metadata": {},
     "output_type": "execute_result"
    }
   ],
   "source": [
    "#Q3:\n",
    "ones = np.ones(10, dtype = int).reshape(2,5)\n",
    "ones"
   ]
  },
  {
   "cell_type": "code",
   "execution_count": 33,
   "id": "8a247688-1098-4b2b-b313-705ce3c559e5",
   "metadata": {},
   "outputs": [
    {
     "data": {
      "text/plain": [
       "array([[  2.7,   0. ,  -2. ],\n",
       "       [  3.4,  10.6,   0. ],\n",
       "       [-19. ,  99.9,  13. ]])"
      ]
     },
     "execution_count": 33,
     "metadata": {},
     "output_type": "execute_result"
    }
   ],
   "source": [
    "#Q4:\n",
    "myarray1 = np.array([[2.7,  0,  -2],[ 3.4,  10.6,  0],[-19, 99.9, 13 ]])\n",
    "myarray1"
   ]
  },
  {
   "cell_type": "code",
   "execution_count": 37,
   "id": "31d20fa9-f92e-4ac0-97af-6c9466c31590",
   "metadata": {},
   "outputs": [
    {
     "data": {
      "text/plain": [
       "array([[ 4,  8, 12, 16, 20],\n",
       "       [24, 28, 32, 36, 40],\n",
       "       [44, 48, 52, 56, 60]])"
      ]
     },
     "execution_count": 37,
     "metadata": {},
     "output_type": "execute_result"
    }
   ],
   "source": [
    "#Q5:\n",
    "myarray2 = np.arange(4 , 4 + 15*4 , 4).reshape(3,5)\n",
    "myarray2"
   ]
  },
  {
   "cell_type": "markdown",
   "id": "2d3fc3a8",
   "metadata": {},
   "source": [
    "Using the arrays created in Question above, write NumPy commands for the following: \n",
    "1. Find the dimensions, shape, size, data type of the items and itemsize of arrays zeros, vowels, ones, myarray1 and myarray2. \n",
    "2. Reshape the array ones to have all the 10 elements in a single row. \n",
    "3. Display the 2nd and 3rd element of the array vowels. \n",
    "4. Display all elements in the 2nd and 3rd row of the array myarray1. \n",
    "5. Display the elements in the 1st and 2nd column of the array myarray1. \n",
    "6. Display the elements in the 1st column of the 2nd and 3rd row of the array myarray1. \n",
    "7. Reverse the array of vowels."
   ]
  },
  {
   "cell_type": "code",
   "execution_count": 55,
   "id": "fc69c3db",
   "metadata": {},
   "outputs": [
    {
     "data": {
      "text/plain": [
       "((3, 5), 15, 2, dtype('int32'), 4)"
      ]
     },
     "execution_count": 55,
     "metadata": {},
     "output_type": "execute_result"
    }
   ],
   "source": [
    "#Write your answer here\n",
    "#Q1:\n",
    "myarray2.shape, myarray2.size, myarray2.ndim, myarray2.dtype, myarray2.itemsize"
   ]
  },
  {
   "cell_type": "code",
   "execution_count": 49,
   "id": "43361887-3ae6-4de6-b854-c949469c9579",
   "metadata": {},
   "outputs": [
    {
     "data": {
      "text/plain": [
       "array([[1, 1, 1, 1, 1, 1, 1, 1, 1, 1]])"
      ]
     },
     "execution_count": 49,
     "metadata": {},
     "output_type": "execute_result"
    }
   ],
   "source": [
    "#Q2:\n",
    "ones.reshape(1,10)"
   ]
  },
  {
   "cell_type": "code",
   "execution_count": 57,
   "id": "7d2473fd-80c4-4d85-8753-955be2893552",
   "metadata": {},
   "outputs": [
    {
     "data": {
      "text/plain": [
       "array(['e', 'i'], dtype='<U1')"
      ]
     },
     "execution_count": 57,
     "metadata": {},
     "output_type": "execute_result"
    }
   ],
   "source": [
    "#Q3:\n",
    "vowels[1:3]"
   ]
  },
  {
   "cell_type": "code",
   "execution_count": 65,
   "id": "b424e008-1643-4807-8eda-87d5d75bc98b",
   "metadata": {},
   "outputs": [
    {
     "name": "stdout",
     "output_type": "stream",
     "text": [
      "[[  2.7   0.   -2. ]\n",
      " [  3.4  10.6   0. ]\n",
      " [-19.   99.9  13. ]]\n"
     ]
    },
    {
     "data": {
      "text/plain": [
       "array([[  3.4,  10.6,   0. ],\n",
       "       [-19. ,  99.9,  13. ]])"
      ]
     },
     "execution_count": 65,
     "metadata": {},
     "output_type": "execute_result"
    }
   ],
   "source": [
    "#Q4:\n",
    "print(myarray1)\n",
    "myarray1[1:3 , : ]"
   ]
  },
  {
   "cell_type": "code",
   "execution_count": 71,
   "id": "7cc4ffe2-be2c-45b7-b3b1-1072eacd3fac",
   "metadata": {},
   "outputs": [
    {
     "data": {
      "text/plain": [
       "array([[  2.7,   0. ],\n",
       "       [  3.4,  10.6],\n",
       "       [-19. ,  99.9]])"
      ]
     },
     "execution_count": 71,
     "metadata": {},
     "output_type": "execute_result"
    }
   ],
   "source": [
    "#Q5:\n",
    "myarray1[: , 0:2]"
   ]
  },
  {
   "cell_type": "code",
   "execution_count": 73,
   "id": "bfc001ce-f746-437d-8023-38d282c536bc",
   "metadata": {},
   "outputs": [
    {
     "data": {
      "text/plain": [
       "array([[  3.4],\n",
       "       [-19. ]])"
      ]
     },
     "execution_count": 73,
     "metadata": {},
     "output_type": "execute_result"
    }
   ],
   "source": [
    "#Q6:\n",
    "myarray1[1:3, 0:1]"
   ]
  },
  {
   "cell_type": "code",
   "execution_count": 75,
   "id": "ae236027-260b-4e35-92d0-234e13f4d0b6",
   "metadata": {},
   "outputs": [
    {
     "data": {
      "text/plain": [
       "array(['u', 'o', 'i', 'e', 'a'], dtype='<U1')"
      ]
     },
     "execution_count": 75,
     "metadata": {},
     "output_type": "execute_result"
    }
   ],
   "source": [
    "#Q7: \n",
    "vowels[::-1]"
   ]
  },
  {
   "cell_type": "markdown",
   "id": "e1edb3bb",
   "metadata": {},
   "source": [
    "Using the arrays created in Question above, write NumPy commands for the following:\n",
    "1. Divide all elements of array ones by 3. \n",
    "2. Add the arrays myarray1 and myarray2. \n",
    "3. Subtract myarray1 from myarray2 and store the result in a new array. \n",
    "4. Multiply myarray1 and myarray2 elementwise. \n",
    "5. Do the matrix multiplication of myarray1 and myarray2 and store the result in a new array myarray3. \n",
    "6. Divide myarray1 by myarray2. \n",
    "7. Find the cube of all elements of myarray1 and divide the resulting array by 2. \n",
    "8. Find the square root of all elements of myarray2   and divide the resulting array by 2. The result  should be rounded to two places of decimals."
   ]
  },
  {
   "cell_type": "code",
   "execution_count": 77,
   "id": "3c933386",
   "metadata": {},
   "outputs": [
    {
     "data": {
      "text/plain": [
       "array([[0.33333333, 0.33333333, 0.33333333, 0.33333333, 0.33333333],\n",
       "       [0.33333333, 0.33333333, 0.33333333, 0.33333333, 0.33333333]])"
      ]
     },
     "execution_count": 77,
     "metadata": {},
     "output_type": "execute_result"
    }
   ],
   "source": [
    "# Write your answer here\n",
    "#Q1:\n",
    "ones/3"
   ]
  },
  {
   "cell_type": "code",
   "execution_count": 81,
   "id": "e838403a-75f8-4a2f-9683-6c6ea7d22d61",
   "metadata": {},
   "outputs": [
    {
     "data": {
      "text/plain": [
       "array([[  6.7,   8. ,  10. ],\n",
       "       [ 27.4,  38.6,  32. ],\n",
       "       [ 25. , 147.9,  65. ]])"
      ]
     },
     "execution_count": 81,
     "metadata": {},
     "output_type": "execute_result"
    }
   ],
   "source": [
    "#Q2:\n",
    "myarray1 + myarray2[ : ,0:3]"
   ]
  },
  {
   "cell_type": "code",
   "execution_count": 85,
   "id": "e33cb3f3-723b-4dc1-9212-4393a6158b2b",
   "metadata": {},
   "outputs": [
    {
     "data": {
      "text/plain": [
       "array([[ -1.3,  -8. , -14. ],\n",
       "       [-20.6, -17.4, -32. ],\n",
       "       [-63. ,  51.9, -39. ]])"
      ]
     },
     "execution_count": 85,
     "metadata": {},
     "output_type": "execute_result"
    }
   ],
   "source": [
    "#Q3:\n",
    "myarray= myarray1 - myarray2[ : ,0:3]\n",
    "myarray"
   ]
  },
  {
   "cell_type": "code",
   "execution_count": 97,
   "id": "ef3865eb-76e4-4a5f-b465-623f83faa2f5",
   "metadata": {},
   "outputs": [
    {
     "data": {
      "text/plain": [
       "array([[  10.8,    0. ,  -24. ],\n",
       "       [  81.6,  296.8,    0. ],\n",
       "       [-836. , 4795.2,  676. ]])"
      ]
     },
     "execution_count": 97,
     "metadata": {},
     "output_type": "execute_result"
    }
   ],
   "source": [
    "#Q4:\n",
    "myarray1 * myarray2[ : ,0:3]"
   ]
  },
  {
   "cell_type": "code",
   "execution_count": 111,
   "id": "818c05a4-41da-4f3a-9fe7-6873acc707d7",
   "metadata": {},
   "outputs": [
    {
     "data": {
      "text/plain": [
       "array([[  10.8,    0. ,  -24. ],\n",
       "       [  81.6,  296.8,    0. ],\n",
       "       [-836. , 4795.2,  676. ]])"
      ]
     },
     "execution_count": 111,
     "metadata": {},
     "output_type": "execute_result"
    }
   ],
   "source": [
    "#Q5:\n",
    "myarray3= myarray1 * myarray2[ : ,0:3]\n",
    "myarray3"
   ]
  },
  {
   "cell_type": "code",
   "execution_count": 95,
   "id": "82a06e0a-52b5-42b5-bfce-dc5f2f33f492",
   "metadata": {},
   "outputs": [
    {
     "data": {
      "text/plain": [
       "array([[ 0.675     ,  0.        , -0.16666667],\n",
       "       [ 0.14166667,  0.37857143,  0.        ],\n",
       "       [-0.43181818,  2.08125   ,  0.25      ]])"
      ]
     },
     "execution_count": 95,
     "metadata": {},
     "output_type": "execute_result"
    }
   ],
   "source": [
    "#Q6:\n",
    "myarray1 / myarray2[ : ,0:3]"
   ]
  },
  {
   "cell_type": "code",
   "execution_count": 87,
   "id": "fcc1118a-83e0-4ad1-8001-eea580c8da8e",
   "metadata": {},
   "outputs": [
    {
     "data": {
      "text/plain": [
       "array([[ 9.841500e+00,  0.000000e+00, -4.000000e+00],\n",
       "       [ 1.965200e+01,  5.955080e+02,  0.000000e+00],\n",
       "       [-3.429500e+03,  4.985015e+05,  1.098500e+03]])"
      ]
     },
     "execution_count": 87,
     "metadata": {},
     "output_type": "execute_result"
    }
   ],
   "source": [
    "#Q7:\n",
    "(myarray1**3)/2"
   ]
  },
  {
   "cell_type": "code",
   "execution_count": 93,
   "id": "d2e665c3-1e88-4845-af86-65a129d4ae3b",
   "metadata": {},
   "outputs": [
    {
     "data": {
      "text/plain": [
       "array([[1.  , 1.41, 1.73, 2.  , 2.24],\n",
       "       [2.45, 2.65, 2.83, 3.  , 3.16],\n",
       "       [3.32, 3.46, 3.61, 3.74, 3.87]])"
      ]
     },
     "execution_count": 93,
     "metadata": {},
     "output_type": "execute_result"
    }
   ],
   "source": [
    "#Q8:\n",
    "np.round((np.sqrt(myarray2))/2, 2)"
   ]
  },
  {
   "cell_type": "markdown",
   "id": "d8aafc74",
   "metadata": {},
   "source": [
    "Using the arrays created above, write NumPy commands for the following: \n",
    "1. Find the transpose of ones and myarray2. \n",
    "2. Sort the array vowels in reverse. \n",
    "3. Sort the array myarray1 such that it brings the lowest value of the column in the first row and so on."
   ]
  },
  {
   "cell_type": "code",
   "execution_count": 103,
   "id": "573c6506",
   "metadata": {},
   "outputs": [
    {
     "data": {
      "text/plain": [
       "array([[ 4, 24, 44],\n",
       "       [ 8, 28, 48],\n",
       "       [12, 32, 52],\n",
       "       [16, 36, 56],\n",
       "       [20, 40, 60]])"
      ]
     },
     "execution_count": 103,
     "metadata": {},
     "output_type": "execute_result"
    }
   ],
   "source": [
    "# Write your answer here\n",
    "#Q1:\n",
    "myarray2.T"
   ]
  },
  {
   "cell_type": "code",
   "execution_count": 107,
   "id": "fd3b507e-f14a-48d4-adcf-0ab405614da2",
   "metadata": {},
   "outputs": [
    {
     "data": {
      "text/plain": [
       "array(['a', 'e', 'i', 'o', 'u'], dtype='<U1')"
      ]
     },
     "execution_count": 107,
     "metadata": {},
     "output_type": "execute_result"
    }
   ],
   "source": [
    "#Q2:\n",
    "np.sort(vowels[::-1])"
   ]
  },
  {
   "cell_type": "code",
   "execution_count": 109,
   "id": "061d7a93-87dd-412a-9787-133bb885450a",
   "metadata": {},
   "outputs": [
    {
     "data": {
      "text/plain": [
       "array([[-19. ,   0. ,  -2. ],\n",
       "       [  2.7,  10.6,   0. ],\n",
       "       [  3.4,  99.9,  13. ]])"
      ]
     },
     "execution_count": 109,
     "metadata": {},
     "output_type": "execute_result"
    }
   ],
   "source": [
    "#Q3:\n",
    "np.sort(myarray1,0)"
   ]
  },
  {
   "cell_type": "markdown",
   "id": "93546856",
   "metadata": {},
   "source": [
    "Create a 2-D array called myarray4 using arange() having 14 rows and 3 columns with start value = -1, step size 0.25 having. Split this array row wise into 3 equal parts and print the result. "
   ]
  },
  {
   "cell_type": "code",
   "execution_count": 117,
   "id": "441dd934",
   "metadata": {},
   "outputs": [
    {
     "data": {
      "text/plain": [
       "array([[-1.  , -0.75, -0.5 ],\n",
       "       [-0.25,  0.  ,  0.25],\n",
       "       [ 0.5 ,  0.75,  1.  ],\n",
       "       [ 1.25,  1.5 ,  1.75],\n",
       "       [ 2.  ,  2.25,  2.5 ],\n",
       "       [ 2.75,  3.  ,  3.25],\n",
       "       [ 3.5 ,  3.75,  4.  ],\n",
       "       [ 4.25,  4.5 ,  4.75],\n",
       "       [ 5.  ,  5.25,  5.5 ],\n",
       "       [ 5.75,  6.  ,  6.25],\n",
       "       [ 6.5 ,  6.75,  7.  ],\n",
       "       [ 7.25,  7.5 ,  7.75],\n",
       "       [ 8.  ,  8.25,  8.5 ],\n",
       "       [ 8.75,  9.  ,  9.25]])"
      ]
     },
     "execution_count": 117,
     "metadata": {},
     "output_type": "execute_result"
    }
   ],
   "source": [
    "# Write your answer here\n",
    "myarray4 = np.arange(-1 , -1 + 42 * 0.25 , 0.25).reshape(14,3)\n",
    "myarray4"
   ]
  },
  {
   "cell_type": "markdown",
   "id": "c8cdbaff",
   "metadata": {},
   "source": [
    "Using the myarray4 created in the above questions, write commands for the following: \n",
    "1. Find the sum of all elements. \n",
    "2. Find the sum of all elements row wise\n",
    "3. Find the sum of all elements column wise. \n",
    "4. Find the max of all elements. \n",
    "5. Find the min of all elements in each row. \n",
    "6. Find the mean of all elements in each row. \n",
    "7. Find the standard deviation column wise."
   ]
  },
  {
   "cell_type": "code",
   "execution_count": 119,
   "id": "66af8b55",
   "metadata": {},
   "outputs": [
    {
     "data": {
      "text/plain": [
       "173.25"
      ]
     },
     "execution_count": 119,
     "metadata": {},
     "output_type": "execute_result"
    }
   ],
   "source": [
    "# Write your ansewr here\n",
    "#Q1:\n",
    "np.sum(myarray4)"
   ]
  },
  {
   "cell_type": "code",
   "execution_count": 121,
   "id": "31082c39-11b8-418e-b8cd-a115051f91f7",
   "metadata": {},
   "outputs": [
    {
     "data": {
      "text/plain": [
       "array([-2.25,  0.  ,  2.25,  4.5 ,  6.75,  9.  , 11.25, 13.5 , 15.75,\n",
       "       18.  , 20.25, 22.5 , 24.75, 27.  ])"
      ]
     },
     "execution_count": 121,
     "metadata": {},
     "output_type": "execute_result"
    }
   ],
   "source": [
    "#Q2:\n",
    "np.sum(myarray4,axis=1)"
   ]
  },
  {
   "cell_type": "code",
   "execution_count": 123,
   "id": "0bbdfd56-056a-43f2-836d-a97d97eeed41",
   "metadata": {},
   "outputs": [
    {
     "data": {
      "text/plain": [
       "array([54.25, 57.75, 61.25])"
      ]
     },
     "execution_count": 123,
     "metadata": {},
     "output_type": "execute_result"
    }
   ],
   "source": [
    "#Q3:\n",
    "np.sum(myarray4,axis=0)"
   ]
  },
  {
   "cell_type": "code",
   "execution_count": 133,
   "id": "ee9bc164-9aa6-497f-96f5-db8f95bf4491",
   "metadata": {},
   "outputs": [
    {
     "data": {
      "text/plain": [
       "9.25"
      ]
     },
     "execution_count": 133,
     "metadata": {},
     "output_type": "execute_result"
    }
   ],
   "source": [
    "#Q4:\n",
    "np.max(myarray4)"
   ]
  },
  {
   "cell_type": "code",
   "execution_count": 137,
   "id": "c6f82de5-9d79-4f18-a036-2feddf47f2fa",
   "metadata": {},
   "outputs": [
    {
     "data": {
      "text/plain": [
       "array([-1.  , -0.25,  0.5 ,  1.25,  2.  ,  2.75,  3.5 ,  4.25,  5.  ,\n",
       "        5.75,  6.5 ,  7.25,  8.  ,  8.75])"
      ]
     },
     "execution_count": 137,
     "metadata": {},
     "output_type": "execute_result"
    }
   ],
   "source": [
    "#Q5\n",
    "np.min(myarray4, axis=1)"
   ]
  },
  {
   "cell_type": "code",
   "execution_count": 139,
   "id": "4557729c-ede6-4790-8965-f3933cfd2308",
   "metadata": {},
   "outputs": [
    {
     "data": {
      "text/plain": [
       "array([-0.75,  0.  ,  0.75,  1.5 ,  2.25,  3.  ,  3.75,  4.5 ,  5.25,\n",
       "        6.  ,  6.75,  7.5 ,  8.25,  9.  ])"
      ]
     },
     "execution_count": 139,
     "metadata": {},
     "output_type": "execute_result"
    }
   ],
   "source": [
    "#Q6:\n",
    "np.mean(myarray4,axis=1)"
   ]
  },
  {
   "cell_type": "code",
   "execution_count": 141,
   "id": "72ea740d-33b0-4d8a-a0df-40f9893b4af3",
   "metadata": {},
   "outputs": [
    {
     "data": {
      "text/plain": [
       "array([3.02334666, 3.02334666, 3.02334666])"
      ]
     },
     "execution_count": 141,
     "metadata": {},
     "output_type": "execute_result"
    }
   ],
   "source": [
    "#Q7:\n",
    "np.std(myarray4, axis=0)"
   ]
  },
  {
   "cell_type": "markdown",
   "id": "8d7e1dca",
   "metadata": {},
   "source": [
    "#### Practice Exercise 2\n",
    "Read the coordinates of the capital cities of the world from the country-capital-lat-long-population.csv file. Use NumPy to print the name and coordinates of the capital city closest to the Saudi Arabia capital - Riyadh.\n",
    "\n",
    "Note that:\n",
    "\n",
    "1. The Country Name for Saudi Arabia is given as Saudi Arabia in the data.\n",
    "2. The ‘closeness’ of capital cities from the Saudi Arabia capital is based on the Euclidean distance of their coordinates to those of the Saudi Arabia capital.\n",
    "\n",
    "\n",
    "Hints:\n",
    "\n",
    "1. Use read_html() from the Pandas library to read the table.\n",
    "2. Use the to_numpy() function of the Pandas DataFrame class to convert a DataFrame to a Numpy array\n",
    "3. Use broadcasting to compute the euclidean distance of capital cities from Riyadh."
   ]
  },
  {
   "cell_type": "code",
   "execution_count": 147,
   "id": "ab6b9725",
   "metadata": {},
   "outputs": [
    {
     "name": "stdout",
     "output_type": "stream",
     "text": [
      "Closest capital city to Riyadh: Al-Manamah (Manama)\n",
      "Coordinates: Latitude 26.2154, Longitude 50.5832\n"
     ]
    }
   ],
   "source": [
    "# Write your answer here\n",
    "import pandas as pd\n",
    "import numpy as np\n",
    "\n",
    "# Load the data from the CSV file\n",
    "capitals = pd.read_csv('country-capital-lat-long-population.csv')\n",
    "\n",
    "# Extract Riyadh's coordinates (Saudi Arabia's capital)\n",
    "riyadh_data = capitals[capitals['Country'] == 'Saudi Arabia']\n",
    "riyadh_lat = riyadh_data['Latitude'].values[0]\n",
    "riyadh_long = riyadh_data['Longitude'].values[0]\n",
    "\n",
    "# Extract the latitudes, longitudes, and capital city names for all the capitals\n",
    "capital_data = capitals[['Capital City', 'Latitude', 'Longitude']].to_numpy()\n",
    "\n",
    "# Compute the Euclidean distance of all capitals from Riyadh\n",
    "distances = np.sqrt((capital_data[:, 1].astype(float) - riyadh_lat)**2 + (capital_data[:, 2].astype(float) - riyadh_long)**2)\n",
    "\n",
    "# Exclude Riyadh from the comparison by setting its distance to infinity\n",
    "is_not_riyadh = capital_data[:, 0] != 'Ar-Riyadh (Riyadh)'\n",
    "distances[~is_not_riyadh] = np.inf\n",
    "\n",
    "# Find the index of the minimum distance excluding Riyadh\n",
    "closest_city_index = np.argmin(distances)\n",
    "\n",
    "# Get the name and coordinates of the closest capital city\n",
    "closest_city = capital_data[closest_city_index]\n",
    "\n",
    "# Output the result\n",
    "print(f\"Closest capital city to Riyadh: {closest_city[0]}\")\n",
    "print(f\"Coordinates: Latitude {closest_city[1]}, Longitude {closest_city[2]}\")\n",
    "\n"
   ]
  },
  {
   "cell_type": "markdown",
   "id": "1fdbec05",
   "metadata": {},
   "source": [
    "#### Practical Exercise 2\n",
    "\n",
    "Use NumPy to:\n",
    "\n",
    "1. Print the names of the countries of the top 10 capital cities closest to the US capital - Washington DC.\n",
    "\n",
    "2. Create and print a NumPy array containing the coordinates of the top 10 cities."
   ]
  },
  {
   "cell_type": "code",
   "execution_count": 149,
   "id": "45046a85",
   "metadata": {},
   "outputs": [
    {
     "name": "stdout",
     "output_type": "stream",
     "text": [
      "Countries of the top 10 closest cities to Washington, DC:\n",
      "['United States of America' 'Canada' 'Bahamas' 'Bermuda' 'Cuba'\n",
      " 'Turks and Caicos Islands' 'Cayman Islands' 'Haiti' 'Jamaica'\n",
      " 'Dominican Republic']\n",
      "\n",
      "Coordinates of the top 10 closest cities:\n",
      "[[ 38.8951 -77.0364]\n",
      " [ 45.4166 -75.698 ]\n",
      " [ 25.0582 -77.3431]\n",
      " [ 32.2915 -64.778 ]\n",
      " [ 23.1195 -82.3785]\n",
      " [ 21.4612 -71.1419]\n",
      " [ 19.2866 -81.3744]\n",
      " [ 18.5392 -72.335 ]\n",
      " [ 17.997  -76.7936]\n",
      " [ 18.4896 -69.9018]]\n"
     ]
    }
   ],
   "source": [
    "# Write your answer here\n",
    "import pandas as pd\n",
    "import numpy as np\n",
    "\n",
    "# Load the data from the CSV file\n",
    "capitals = pd.read_csv('country-capital-lat-long-population.csv')\n",
    "\n",
    "# Extract Washington DC's coordinates (US capital)\n",
    "washington_data = capitals[capitals['Capital City'].str.contains('Washington')]\n",
    "washington_lat = washington_data['Latitude'].values[0]\n",
    "washington_long = washington_data['Longitude'].values[0]\n",
    "\n",
    "# Extract the latitudes, longitudes, capital city names, and countries for all the capitals\n",
    "capital_data = capitals[['Country', 'Capital City', 'Latitude', 'Longitude']].to_numpy()\n",
    "\n",
    "# Compute the Euclidean distance of all capitals from Washington, DC\n",
    "distances = np.sqrt((capital_data[:, 2].astype(float) - washington_lat)**2 + (capital_data[:, 3].astype(float) - washington_long)**2)\n",
    "\n",
    "# Exclude Washington itself from the comparison by setting its distance to infinity\n",
    "is_not_washington = capital_data[:, 1] != 'Washington D.C.'\n",
    "distances[~is_not_washington] = np.inf\n",
    "\n",
    "# Find the indices of the top 10 closest cities\n",
    "top_10_indices = np.argsort(distances)[:10]\n",
    "\n",
    "# Print the names of the countries of the top 10 closest cities\n",
    "top_10_countries = capital_data[top_10_indices, 0]\n",
    "print(\"Countries of the top 10 closest cities to Washington, DC:\")\n",
    "print(top_10_countries)\n",
    "\n",
    "# Create and print a NumPy array containing the coordinates of the top 10 cities\n",
    "top_10_coordinates = capital_data[top_10_indices, 2:4].astype(float)\n",
    "print(\"\\nCoordinates of the top 10 closest cities:\")\n",
    "print(top_10_coordinates)"
   ]
  },
  {
   "cell_type": "code",
   "execution_count": null,
   "id": "0a77931e-2292-435f-b0cb-8658a4cab019",
   "metadata": {},
   "outputs": [],
   "source": []
  }
 ],
 "metadata": {
  "kernelspec": {
   "display_name": "Python 3 (ipykernel)",
   "language": "python",
   "name": "python3"
  },
  "language_info": {
   "codemirror_mode": {
    "name": "ipython",
    "version": 3
   },
   "file_extension": ".py",
   "mimetype": "text/x-python",
   "name": "python",
   "nbconvert_exporter": "python",
   "pygments_lexer": "ipython3",
   "version": "3.12.4"
  }
 },
 "nbformat": 4,
 "nbformat_minor": 5
}
